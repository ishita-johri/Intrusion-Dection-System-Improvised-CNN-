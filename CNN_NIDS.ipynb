{
  "nbformat": 4,
  "nbformat_minor": 0,
  "metadata": {
    "colab": {
      "name": "CNN_NIDS.ipynb",
      "provenance": [],
      "collapsed_sections": []
    },
    "kernelspec": {
      "name": "python3",
      "display_name": "Python 3"
    }
  },
  "cells": [
    {
      "cell_type": "code",
      "metadata": {
        "id": "kF7li9zoRpoI",
        "colab": {
          "base_uri": "https://localhost:8080/"
        },
        "outputId": "f5c7bbca-7b16-4cab-b476-fbffdc15152f"
      },
      "source": [
        "from google.colab import drive\n",
        "import pandas as pd\n",
        "import numpy as np\n",
        "from sklearn.preprocessing import (StandardScaler, OrdinalEncoder,LabelEncoder, MinMaxScaler, OneHotEncoder)\n",
        "!pip install -q keras\n",
        "from tensorflow.keras.utils import to_categorical\n",
        "from sklearn.naive_bayes import GaussianNB\n",
        "from sklearn.feature_extraction.text import CountVectorizer\n",
        "from sklearn.preprocessing import Normalizer, MaxAbsScaler , RobustScaler, PowerTransformer\n",
        "import matplotlib.pyplot as plt\n",
        "import seaborn as sns\n",
        "\n",
        "\n",
        "\n",
        "\n",
        "drive.mount('/content/drive')"
      ],
      "execution_count": 1,
      "outputs": [
        {
          "output_type": "stream",
          "name": "stdout",
          "text": [
            "Mounted at /content/drive\n"
          ]
        }
      ]
    },
    {
      "cell_type": "code",
      "metadata": {
        "id": "AYSWHZfRRyG5"
      },
      "source": [
        "#train+, test+ and test21- dataset loading\n",
        "train='/content/drive/MyDrive/Colab Notebooks/KDDTrain.txt'\n",
        "test='/content/drive/MyDrive/Colab Notebooks/KDDTest.txt'\n",
        "test21='/content/drive/MyDrive/Colab Notebooks/KDDTest-21.txt'\n",
        "\n",
        "featureV=[\"duration\",\"protocol_type\",\"service\",\"flag\",\"src_bytes\",\"dst_bytes\",\"land\",\"wrong_fragment\",\"urgent\",\"hot\",\n",
        "          \"num_failed_logins\",\"logged_in\",\"num_compromised\",\"root_shell\",\"su_attempted\",\"num_root\",\"num_file_creations\",\"num_shells\",\n",
        "          \"num_access_files\",\"num_outbound_cmds\",\"is_host_login\",\"is_guest_login\",\"count\",\"srv_count\",\"serror_rate\",\"srv_serror_rate\",\n",
        "          \"rerror_rate\",\"srv_rerror_rate\",\"same_srv_rate\",\"diff_srv_rate\",\"srv_diff_host_rate\",\"dst_host_count\",\"dst_host_srv_count\", \n",
        "          \"dst_host_same_srv_rate\",\"dst_host_diff_srv_rate\",\"dst_host_same_src_port_rate\",\"dst_host_srv_diff_host_rate\",\"dst_host_serror_rate\",\n",
        "          \"dst_host_srv_serror_rate\",\"dst_host_rerror_rate\",\"dst_host_srv_rerror_rate\",\"label\",\"difficulty\"]\n",
        "\n",
        "flagV=['OTH','RSTOS0','SF','SH','RSTO','S2','S1','REJ','S3','RSTR','S0']\n",
        "\n",
        "protocol_typeV=['tcp','udp','icmp']\n",
        "\n",
        "serviceV=['http','smtp','finger','domain_u','auth','telnet','ftp','eco_i','ntp_u','ecr_i','other','private','pop_3','ftp_data',\n",
        "                  'rje','time','mtp','link','remote_job','gopher','ssh','name','whois','domain','login','imap4','daytime','ctf','nntp',\n",
        "                  'shell','IRC','nnsp','http_443','exec','printer','efs','courier','uucp','klogin','kshell','echo','discard','systat',\n",
        "                  'supdup','iso_tsap','hostnames','csnet_ns','pop_2','sunrpc','uucp_path','netbios_ns','netbios_ssn','netbios_dgm',\n",
        "                  'sql_net','vmnet','bgp','Z39_50','ldap','netstat','urh_i','X11','urp_i','pm_dump','tftp_u','tim_i','red_i','icmp',\n",
        "                  'http_2784','harvest','aol','http_8001']\n",
        "\n",
        "binary_attack=['normal','ipsweep', 'nmap', 'portsweep','satan', 'saint', 'mscan','back', 'land', 'neptune', 'pod', 'smurf',\n",
        "               'teardrop', 'apache2', 'udpstorm', 'processtable','mailbomb','buffer_overflow', 'loadmodule', 'perl', 'rootkit',\n",
        "               'xterm', 'ps', 'sqlattack','ftp_write', 'guess_passwd', 'imap', 'multihop','phf', 'spy', 'warezclient',\n",
        "               'warezmaster','snmpgetattack','named', 'xlock', 'xsnoop','sendmail', 'httptunnel', 'worm', 'snmpguess']\n",
        "\n",
        "multiclass_attack={ 'normal': 'normal',\n",
        "        'probe': ['ipsweep.', 'nmap.', 'portsweep.','satan.', 'saint.', 'mscan.'],\n",
        "        'dos': ['back.', 'land.', 'neptune.', 'pod.', 'smurf.','teardrop.', 'apache2.', 'udpstorm.', 'processtable.','mailbomb.'],\n",
        "        'u2r': ['buffer_overflow.', 'loadmodule.', 'perl.', 'rootkit.','xterm.', 'ps.', 'sqlattack.'],\n",
        "        'r2l': ['ftp_write.', 'guess_passwd.', 'imap.', 'multihop.','phf.', 'spy.', 'warezclient.', 'warezmaster.','snmpgetattack.',\n",
        "                   'named.', 'xlock.', 'xsnoop.','sendmail.', 'httptunnel.', 'worm.', 'snmpguess.']}                   "
      ],
      "execution_count": 2,
      "outputs": []
    },
    {
      "cell_type": "code",
      "metadata": {
        "id": "ucmcpiZKdzq3"
      },
      "source": [
        "train_data=pd.read_csv(train,names=featureV)\n",
        "test_data=pd.read_csv(test,names=featureV)"
      ],
      "execution_count": 3,
      "outputs": []
    },
    {
      "cell_type": "code",
      "metadata": {
        "id": "kS0AWyOZcbCN"
      },
      "source": [
        "test_21 = pd.read_csv(test21, names= featureV)"
      ],
      "execution_count": 4,
      "outputs": []
    },
    {
      "cell_type": "code",
      "metadata": {
        "id": "J8-VpMmXtT2Y"
      },
      "source": [
        "train_data = train_data.query(\"service != 'aol'\")\n",
        "train_data = train_data.query(\"service != 'harvest'\")\n",
        "train_data = train_data.query(\"service != 'http_2784'\")\n",
        "train_data = train_data.query(\"service != 'http_8001'\")\n",
        "train_data = train_data.query(\"service != 'red_i'\")\n",
        "train_data = train_data.query(\"service != 'urh_i'\")\n",
        "train_data = train_data.query(\"service != 'printer'\")\n",
        "train_data = train_data.query(\"service != 'rje'\")\n",
        "\n",
        "\n",
        "#-------------------------------------------------------------------------------->>>>\n",
        "\n",
        "test_data = test_data.query(\"service != 'printer'\")\n",
        "test_data = test_data.query(\"service != 'rje'\")"
      ],
      "execution_count": 5,
      "outputs": []
    },
    {
      "cell_type": "markdown",
      "metadata": {
        "id": "sve89FgBxQer"
      },
      "source": [
        "# Working with **Training** Data "
      ]
    },
    {
      "cell_type": "code",
      "metadata": {
        "id": "_BWVOVVvturS"
      },
      "source": [
        "def bar_graph(feature):\n",
        "    train_data[feature].value_counts().plot(kind=\"bar\")"
      ],
      "execution_count": 6,
      "outputs": []
    },
    {
      "cell_type": "code",
      "metadata": {
        "id": "RJYduSsQtxvm",
        "colab": {
          "base_uri": "https://localhost:8080/",
          "height": 280
        },
        "outputId": "27a6c906-6631-4413-aed4-937cb9dac64f"
      },
      "source": [
        "bar_graph('protocol_type')"
      ],
      "execution_count": 7,
      "outputs": [
        {
          "output_type": "display_data",
          "data": {
            "image/png": "[encoded data removed]",
            "text/plain": [
              "<Figure size 432x288 with 1 Axes>"
            ]
          },
          "metadata": {
            "needs_background": "light"
          }
        }
      ]
    },
    {
      "cell_type": "code",
      "metadata": {
        "id": "GAVID7iDt_z-",
        "colab": {
          "base_uri": "https://localhost:8080/",
          "height": 265
        },
        "outputId": "b22378d3-6d0f-4636-8fb6-ba96d7f6a6a2"
      },
      "source": [
        "plt.figure(figsize=(15,3))\n",
        "bar_graph('service')"
      ],
      "execution_count": 8,
      "outputs": [
        {
          "output_type": "display_data",
          "data": {
            "image/png": "[encoded data removed]",
            "text/plain": [
              "<Figure size 1080x216 with 1 Axes>"
            ]
          },
          "metadata": {
            "needs_background": "light"
          }
        }
      ]
    },
    {
      "cell_type": "code",
      "metadata": {
        "id": "iCAfinWEuN2p",
        "colab": {
          "base_uri": "https://localhost:8080/",
          "height": 295
        },
        "outputId": "fb17a340-ca65-4cc5-c9d0-4aedac4f7032"
      },
      "source": [
        "bar_graph('flag')"
      ],
      "execution_count": 9,
      "outputs": [
        {
          "output_type": "display_data",
          "data": {
            "image/png": "[encoded data removed]",
            "text/plain": [
              "<Figure size 432x288 with 1 Axes>"
            ]
          },
          "metadata": {
            "needs_background": "light"
          }
        }
      ]
    },
    {
      "cell_type": "code",
      "metadata": {
        "id": "2cxiFiVjuYfO",
        "colab": {
          "base_uri": "https://localhost:8080/",
          "height": 262
        },
        "outputId": "802b4c5c-0691-4726-f41f-84e2a1d4ed46"
      },
      "source": [
        "bar_graph('logged_in')"
      ],
      "execution_count": 10,
      "outputs": [
        {
          "output_type": "display_data",
          "data": {
            "image/png": "[encoded data removed]",
            "text/plain": [
              "<Figure size 432x288 with 1 Axes>"
            ]
          },
          "metadata": {
            "needs_background": "light"
          }
        }
      ]
    },
    {
      "cell_type": "code",
      "metadata": {
        "id": "IhNAaC8TuYmt",
        "colab": {
          "base_uri": "https://localhost:8080/",
          "height": 335
        },
        "outputId": "d0c8258f-03de-4c2a-e0b4-96eec113504b"
      },
      "source": [
        "bar_graph('label')"
      ],
      "execution_count": 11,
      "outputs": [
        {
          "output_type": "display_data",
          "data": {
            "image/png": "[encoded data removed]",
            "text/plain": [
              "<Figure size 432x288 with 1 Axes>"
            ]
          },
          "metadata": {
            "needs_background": "light"
          }
        }
      ]
    },
    {
      "cell_type": "markdown",
      "metadata": {
        "id": "wCe_6dcC3hhj"
      },
      "source": [
        "# **Correlations**"
      ]
    },
    {
      "cell_type": "code",
      "metadata": {
        "id": "6A_5kkHh3gch"
      },
      "source": [
        ""
      ],
      "execution_count": 11,
      "outputs": []
    },
    {
      "cell_type": "markdown",
      "metadata": {
        "id": "z0Ut9swezyek"
      },
      "source": [
        "# Working with **Validation** data"
      ]
    },
    {
      "cell_type": "code",
      "metadata": {
        "id": "i86U5064xJNn"
      },
      "source": [
        "def preprocessing(data,cls,df):\n",
        "  \n",
        "#----------attack categorization----------------->\n",
        "  data['label']=data['label'].replace(['normal.','normal'],0)\n",
        "\n",
        "#----------------------binary classification--------------------->\n",
        "  if cls=='binary':\n",
        "    for i in range(len(binary_attack)):\n",
        "      data['label'] = data['label'].replace(binary_attack[i], 1)\n",
        "  \n",
        "#---------------multiclass classification-------------------->  \n",
        "  elif cls=='multiclass':\n",
        "    for i in range(len(multiclass_attack['probe'])):\n",
        "      data['label']=data['label'].replace([multiclass_attack['probe'][i],multiclass_attack['probe'][i][:-1]],1)\n",
        "    \n",
        "    for i in range(len(multiclass_attack['dos'])):\n",
        "      data['label']=data['label'].replace([multiclass_attack['dos'][i],multiclass_attack['dos'][i][:-1]],2)\n",
        "    \n",
        "    for i in range(len(multiclass_attack['u2r'])):\n",
        "      data['label']=data['label'].replace([multiclass_attack['u2r'][i],multiclass_attack['u2r'][i][:-1]],3)\n",
        "    \n",
        "    for i in range(len(multiclass_attack['r2l'])):\n",
        "      data['label'] = data['label'].replace([multiclass_attack['r2l'][i],multiclass_attack['r2l'][i][:-1]],4)\n",
        "#------------------------------------------------>\n",
        "\n",
        "\n",
        "#-------------------------splitting features and labels---------------->\n",
        "  y=data['label']\n",
        "  x=data.loc[:,'duration':'hot']\n",
        "#---------------------------------------------------------------------->\n",
        "\n",
        "\n",
        "#-----------------------------------converting string objects to int------------------------>\n",
        "  #for i in range(len(protocol_typeV)):\n",
        "   # x['protocol_type'] = x['protocol_type'].replace(protocol_typeV[i], i)\n",
        "  \n",
        "  #for i in range(len(serviceV)):\n",
        "   # x['service'] = x['service'].replace(serviceV[i], i+1)\n",
        "\n",
        "  #for i in range(len(flagV)):\n",
        "   # x['flag'] = x['flag'].replace(flagV[i], i+1)\n",
        "#------------------------------------------------------------------------------------------->\n",
        "\n",
        "#-----------------converting to binary feature vectors-------------------------------------->  \n",
        "  t=x.protocol_type.copy()\n",
        "  t=pd.get_dummies(t)\n",
        "  x=x.drop(columns='protocol_type',axis=1)\n",
        "  x=x.join(t)\n",
        "\n",
        "  t1=x.service.copy()\n",
        "  t1=pd.get_dummies(t1)\n",
        "  x=x.drop(columns='service',axis=1)\n",
        "  x=x.join(t1)\n",
        "\n",
        "  t2=x.flag.copy()\n",
        "  t2=pd.get_dummies(t2)\n",
        "  x=x.drop(columns='flag',axis=1)\n",
        "  x=x.join(t2)\n",
        "#------------------------------------------------------------------------------>\n",
        "\n",
        "#-----------------converting to binary label vectors--------------------------------------> \n",
        "  yt=y.copy()\n",
        "  yt=pd.get_dummies(yt)\n",
        "#------------------------------------------------------------------------------>\n",
        "\n",
        "  x = MinMaxScaler(feature_range=(0, 1)).fit_transform(x)\n",
        "  # x = MaxAbsScaler().fit_transform(x)\n",
        "  # x = StandardScaler().fit_transform(x)\n",
        "  #print(x)\n",
        "  #vectorizer = CountVectorizer()\n",
        "  #p= vectorizer.fit_transform(x.protocol_type)\n",
        "\n",
        "  #print(np.shape(p))\n",
        "  #scaler = Normalizer(norm='l1').fit(x)\n",
        "  #trainX = scaler.transform(x)\n",
        "  if df=='train':\n",
        "    return x,yt\n",
        "  else:\n",
        "    return x,y  "
      ],
      "execution_count": 12,
      "outputs": []
    },
    {
      "cell_type": "code",
      "metadata": {
        "id": "pTgGtvCS0nuw"
      },
      "source": [
        "x_train,Y_train=preprocessing(train_data,cls='binary',df='train')\n",
        "x_test,Y_test=preprocessing(test_data,cls='binary',df='test')"
      ],
      "execution_count": 13,
      "outputs": []
    },
    {
      "cell_type": "code",
      "metadata": {
        "id": "Gdw7Hb7DhM_d"
      },
      "source": [
        "x_21_test, y_21_test = preprocessing(test_21, cls = 'binary', df = 'test21')"
      ],
      "execution_count": 14,
      "outputs": []
    },
    {
      "cell_type": "code",
      "metadata": {
        "id": "B939ipnRiM7y",
        "colab": {
          "base_uri": "https://localhost:8080/"
        },
        "outputId": "19d9ae24-c4ed-455b-9fc5-f70f5d6dcca3"
      },
      "source": [
        "print(np.shape(x_train))\n",
        "print(np.shape(Y_train))\n",
        "print(np.shape(x_test))\n",
        "print(np.shape(Y_test))\n",
        "print(np.shape(x_21_test))\n",
        "print(np.shape(y_21_test))"
      ],
      "execution_count": 15,
      "outputs": [
        {
          "output_type": "stream",
          "name": "stdout",
          "text": [
            "(125793, 83)\n",
            "(125793, 2)\n",
            "(22525, 83)\n",
            "(22525,)\n",
            "(11850, 83)\n",
            "(11850,)\n"
          ]
        }
      ]
    },
    {
      "cell_type": "code",
      "metadata": {
        "id": "V8MHi4XfjvLO",
        "colab": {
          "base_uri": "https://localhost:8080/"
        },
        "outputId": "d7c2d84e-fd69-423c-b428-dfdd4c9ee4e5"
      },
      "source": [
        "x_train = np.reshape(x_train, (x_train.shape[0], x_train.shape[1], 1))\n",
        "x_train.shape"
      ],
      "execution_count": 16,
      "outputs": [
        {
          "output_type": "execute_result",
          "data": {
            "text/plain": [
              "(125793, 83, 1)"
            ]
          },
          "metadata": {},
          "execution_count": 16
        }
      ]
    },
    {
      "cell_type": "code",
      "metadata": {
        "id": "xzDgJGguj3Iv",
        "colab": {
          "base_uri": "https://localhost:8080/"
        },
        "outputId": "615f3e91-9708-4f2a-cf9b-c1089bb2413b"
      },
      "source": [
        "x_test = np.reshape(x_test, (x_test.shape[0], x_test.shape[1], 1))\n",
        "x_test.shape"
      ],
      "execution_count": 17,
      "outputs": [
        {
          "output_type": "execute_result",
          "data": {
            "text/plain": [
              "(22525, 83, 1)"
            ]
          },
          "metadata": {},
          "execution_count": 17
        }
      ]
    },
    {
      "cell_type": "code",
      "metadata": {
        "id": "aK8nS_Q6iQuF",
        "colab": {
          "base_uri": "https://localhost:8080/"
        },
        "outputId": "15c30312-d8bd-4a40-80bc-0d79dfacafa1"
      },
      "source": [
        "x_21_test = np.reshape(x_21_test, (x_21_test.shape[0], x_21_test.shape[1], 1))\n",
        "x_21_test.shape\n"
      ],
      "execution_count": 18,
      "outputs": [
        {
          "output_type": "execute_result",
          "data": {
            "text/plain": [
              "(11850, 83, 1)"
            ]
          },
          "metadata": {},
          "execution_count": 18
        }
      ]
    },
    {
      "cell_type": "markdown",
      "metadata": {
        "id": "G6j5pHdf3lYt"
      },
      "source": [
        "# Model"
      ]
    },
    {
      "cell_type": "code",
      "metadata": {
        "id": "Re8nmtgqj7Zw"
      },
      "source": [
        "from keras.models import Sequential\n",
        "from keras.layers import Dense, LSTM, Dropout, SimpleRNN , GRU , Activation\n",
        "from tensorflow.keras.layers import BatchNormalization\n",
        "from keras import optimizers\n",
        "import tensorflow as tf\n",
        "from keras.layers import Convolution1D, Dense, Dropout, Flatten, MaxPooling1D , AveragePooling1D"
      ],
      "execution_count": 19,
      "outputs": []
    },
    {
      "cell_type": "code",
      "metadata": {
        "id": "PZ2sIwlOkBXt"
      },
      "source": [
        "model = Sequential()\n",
        "\n",
        "model.add(Convolution1D(32, 3, padding=\"same\",activation=\"relu\",input_shape = (x_train.shape[1], 1)))\n",
        "# model.add(Convolution1D(32, 3, activation=\"relu\"))\n",
        "model.add(MaxPooling1D(pool_size=(4)))\n",
        "# model.add(tf.keras.layers.LayerNormalization())\n",
        "# model.add(GRU(units = 128, return_sequences=True, input_shape = (x_train.shape[1], 1)))\n",
        "model.add(Dropout(0.5))\n",
        "\n",
        "model.add(Convolution1D(64, 3, padding=\"same\",activation=\"relu\"))\n",
        "# model.add(Convolution1D(64, 3,activation=\"relu\"))\n",
        "model.add(MaxPooling1D(pool_size=(2)))\n",
        "model.add(Dropout(0.5))\n",
        "# model.add(tf.keras.layers.LayerNormalization())\n",
        "\n",
        "# model.add(Convolution1D(64, 3, padding=\"same\",activation=\"relu\"))\n",
        "# model.add(Convolution1D(64, 3,activation=\"relu\"))\n",
        "# model.add(AveragePooling1D(pool_size=(2)))\n",
        "# model.add(Dropout(0.2))\n",
        "\n",
        "model.add(Flatten())\n",
        "model.add(Dense(256, activation=\"relu\"))\n",
        "model.add(Dropout(0.5))\n",
        "model.add(Dense(2, activation=\"softmax\"))"
      ],
      "execution_count": 20,
      "outputs": []
    },
    {
      "cell_type": "code",
      "metadata": {
        "id": "R85Adnd0jjh9"
      },
      "source": [
        "from sklearn.model_selection import cross_validate\n",
        "from sklearn.model_selection import train_test_split"
      ],
      "execution_count": 21,
      "outputs": []
    },
    {
      "cell_type": "code",
      "metadata": {
        "id": "W8IXUK7qkZXT",
        "colab": {
          "base_uri": "https://localhost:8080/"
        },
        "outputId": "eb1b6824-3ef1-446b-a065-755f066560fd"
      },
      "source": [
        "# tf.keras.optimizers.Adam(\n",
        "#     learning_rate=0.001, beta_1=0.9, beta_2=0.999, epsilon=1e-07, amsgrad=False)\n",
        "# train_op = tf.keras.optimizers.adam(amsgrad=True)\n",
        "model.compile(optimizer ='adam',loss = 'categorical_crossentropy', metrics = ['accuracy'])\n",
        "model.fit(x_train, Y_train, epochs = 100, batch_size = 128)"
      ],
      "execution_count": 22,
      "outputs": [
        {
          "output_type": "stream",
          "name": "stdout",
          "text": [
            "Epoch 1/100\n",
            "983/983 [==============================] - 14s 13ms/step - loss: 0.1791 - accuracy: 0.9412\n",
            "Epoch 2/100\n",
            "983/983 [==============================] - 13s 13ms/step - loss: 0.1529 - accuracy: 0.9513\n",
            "Epoch 3/100\n",
            "983/983 [==============================] - 13s 13ms/step - loss: 0.1469 - accuracy: 0.9527\n",
            "Epoch 4/100\n",
            "983/983 [==============================] - 13s 13ms/step - loss: 0.1437 - accuracy: 0.9540\n",
            "Epoch 5/100\n",
            "983/983 [==============================] - 13s 13ms/step - loss: 0.1401 - accuracy: 0.9549\n",
            "Epoch 6/100\n",
            "983/983 [==============================] - 13s 13ms/step - loss: 0.1367 - accuracy: 0.9545\n",
            "Epoch 7/100\n",
            "983/983 [==============================] - 13s 13ms/step - loss: 0.1320 - accuracy: 0.9556\n",
            "Epoch 8/100\n",
            "983/983 [==============================] - 13s 13ms/step - loss: 0.1301 - accuracy: 0.9552\n",
            "Epoch 9/100\n",
            "983/983 [==============================] - 13s 13ms/step - loss: 0.1279 - accuracy: 0.9555\n",
            "Epoch 10/100\n",
            "983/983 [==============================] - 13s 13ms/step - loss: 0.1260 - accuracy: 0.9557\n",
            "Epoch 11/100\n",
            "983/983 [==============================] - 13s 13ms/step - loss: 0.1262 - accuracy: 0.9560\n",
            "Epoch 12/100\n",
            "983/983 [==============================] - 13s 13ms/step - loss: 0.1245 - accuracy: 0.9565\n",
            "Epoch 13/100\n",
            "983/983 [==============================] - 13s 13ms/step - loss: 0.1248 - accuracy: 0.9561\n",
            "Epoch 14/100\n",
            "983/983 [==============================] - 13s 13ms/step - loss: 0.1234 - accuracy: 0.9563\n",
            "Epoch 15/100\n",
            "983/983 [==============================] - 13s 13ms/step - loss: 0.1226 - accuracy: 0.9564\n",
            "Epoch 16/100\n",
            "983/983 [==============================] - 13s 13ms/step - loss: 0.1214 - accuracy: 0.9569\n",
            "Epoch 17/100\n",
            "983/983 [==============================] - 13s 13ms/step - loss: 0.1207 - accuracy: 0.9567\n",
            "Epoch 18/100\n",
            "983/983 [==============================] - 13s 14ms/step - loss: 0.1204 - accuracy: 0.9570\n",
            "Epoch 19/100\n",
            "983/983 [==============================] - 13s 14ms/step - loss: 0.1192 - accuracy: 0.9572\n",
            "Epoch 20/100\n",
            "983/983 [==============================] - 13s 14ms/step - loss: 0.1188 - accuracy: 0.9577\n",
            "Epoch 21/100\n",
            "983/983 [==============================] - 13s 14ms/step - loss: 0.1181 - accuracy: 0.9584\n",
            "Epoch 22/100\n",
            "983/983 [==============================] - 13s 14ms/step - loss: 0.1168 - accuracy: 0.9585\n",
            "Epoch 23/100\n",
            "983/983 [==============================] - 13s 13ms/step - loss: 0.1167 - accuracy: 0.9593\n",
            "Epoch 24/100\n",
            "983/983 [==============================] - 13s 13ms/step - loss: 0.1158 - accuracy: 0.9593\n",
            "Epoch 25/100\n",
            "983/983 [==============================] - 13s 13ms/step - loss: 0.1161 - accuracy: 0.9594\n",
            "Epoch 26/100\n",
            "983/983 [==============================] - 13s 13ms/step - loss: 0.1164 - accuracy: 0.9593\n",
            "Epoch 27/100\n",
            "983/983 [==============================] - 13s 13ms/step - loss: 0.1156 - accuracy: 0.9595\n",
            "Epoch 28/100\n",
            "983/983 [==============================] - 13s 13ms/step - loss: 0.1153 - accuracy: 0.9601\n",
            "Epoch 29/100\n",
            "983/983 [==============================] - 13s 13ms/step - loss: 0.1153 - accuracy: 0.9598\n",
            "Epoch 30/100\n",
            "983/983 [==============================] - 13s 13ms/step - loss: 0.1152 - accuracy: 0.9597\n",
            "Epoch 31/100\n",
            "983/983 [==============================] - 13s 13ms/step - loss: 0.1148 - accuracy: 0.9597\n",
            "Epoch 32/100\n",
            "983/983 [==============================] - 13s 13ms/step - loss: 0.1150 - accuracy: 0.9595\n",
            "Epoch 33/100\n",
            "983/983 [==============================] - 13s 14ms/step - loss: 0.1146 - accuracy: 0.9599\n",
            "Epoch 34/100\n",
            "983/983 [==============================] - 13s 13ms/step - loss: 0.1142 - accuracy: 0.9599\n",
            "Epoch 35/100\n",
            "983/983 [==============================] - 13s 13ms/step - loss: 0.1146 - accuracy: 0.9602\n",
            "Epoch 36/100\n",
            "983/983 [==============================] - 13s 13ms/step - loss: 0.1144 - accuracy: 0.9602\n",
            "Epoch 37/100\n",
            "983/983 [==============================] - 13s 13ms/step - loss: 0.1146 - accuracy: 0.9599\n",
            "Epoch 38/100\n",
            "983/983 [==============================] - 13s 13ms/step - loss: 0.1136 - accuracy: 0.9602\n",
            "Epoch 39/100\n",
            "983/983 [==============================] - 13s 13ms/step - loss: 0.1144 - accuracy: 0.9602\n",
            "Epoch 40/100\n",
            "983/983 [==============================] - 13s 13ms/step - loss: 0.1145 - accuracy: 0.9596\n",
            "Epoch 41/100\n",
            "983/983 [==============================] - 13s 13ms/step - loss: 0.1135 - accuracy: 0.9602\n",
            "Epoch 42/100\n",
            "983/983 [==============================] - 13s 13ms/step - loss: 0.1139 - accuracy: 0.9603\n",
            "Epoch 43/100\n",
            "983/983 [==============================] - 13s 13ms/step - loss: 0.1130 - accuracy: 0.9601\n",
            "Epoch 44/100\n",
            "983/983 [==============================] - 13s 13ms/step - loss: 0.1137 - accuracy: 0.9600\n",
            "Epoch 45/100\n",
            "983/983 [==============================] - 13s 13ms/step - loss: 0.1135 - accuracy: 0.9602\n",
            "Epoch 46/100\n",
            "983/983 [==============================] - 13s 14ms/step - loss: 0.1138 - accuracy: 0.9596\n",
            "Epoch 47/100\n",
            "983/983 [==============================] - 13s 13ms/step - loss: 0.1134 - accuracy: 0.9601\n",
            "Epoch 48/100\n",
            "983/983 [==============================] - 13s 13ms/step - loss: 0.1137 - accuracy: 0.9599\n",
            "Epoch 49/100\n",
            "983/983 [==============================] - 13s 13ms/step - loss: 0.1128 - accuracy: 0.9603\n",
            "Epoch 50/100\n",
            "983/983 [==============================] - 13s 13ms/step - loss: 0.1128 - accuracy: 0.9605\n",
            "Epoch 51/100\n",
            "983/983 [==============================] - 13s 13ms/step - loss: 0.1133 - accuracy: 0.9601\n",
            "Epoch 52/100\n",
            "983/983 [==============================] - 13s 13ms/step - loss: 0.1138 - accuracy: 0.9600\n",
            "Epoch 53/100\n",
            "983/983 [==============================] - 13s 13ms/step - loss: 0.1136 - accuracy: 0.9599\n",
            "Epoch 54/100\n",
            "983/983 [==============================] - 13s 13ms/step - loss: 0.1132 - accuracy: 0.9597\n",
            "Epoch 55/100\n",
            "983/983 [==============================] - 13s 13ms/step - loss: 0.1132 - accuracy: 0.9600\n",
            "Epoch 56/100\n",
            "983/983 [==============================] - 13s 13ms/step - loss: 0.1138 - accuracy: 0.9598\n",
            "Epoch 57/100\n",
            "983/983 [==============================] - 13s 13ms/step - loss: 0.1145 - accuracy: 0.9598\n",
            "Epoch 58/100\n",
            "983/983 [==============================] - 13s 13ms/step - loss: 0.1128 - accuracy: 0.9605\n",
            "Epoch 59/100\n",
            "983/983 [==============================] - 13s 13ms/step - loss: 0.1129 - accuracy: 0.9602\n",
            "Epoch 60/100\n",
            "983/983 [==============================] - 13s 13ms/step - loss: 0.1127 - accuracy: 0.9601\n",
            "Epoch 61/100\n",
            "983/983 [==============================] - 13s 13ms/step - loss: 0.1126 - accuracy: 0.9605\n",
            "Epoch 62/100\n",
            "983/983 [==============================] - 13s 14ms/step - loss: 0.1126 - accuracy: 0.9601\n",
            "Epoch 63/100\n",
            "983/983 [==============================] - 13s 14ms/step - loss: 0.1133 - accuracy: 0.9597\n",
            "Epoch 64/100\n",
            "983/983 [==============================] - 13s 14ms/step - loss: 0.1127 - accuracy: 0.9601\n",
            "Epoch 65/100\n",
            "983/983 [==============================] - 13s 14ms/step - loss: 0.1127 - accuracy: 0.9606\n",
            "Epoch 66/100\n",
            "983/983 [==============================] - 13s 14ms/step - loss: 0.1131 - accuracy: 0.9608\n",
            "Epoch 67/100\n",
            "983/983 [==============================] - 13s 14ms/step - loss: 0.1127 - accuracy: 0.9600\n",
            "Epoch 68/100\n",
            "983/983 [==============================] - 13s 14ms/step - loss: 0.1130 - accuracy: 0.9604\n",
            "Epoch 69/100\n",
            "983/983 [==============================] - 13s 14ms/step - loss: 0.1118 - accuracy: 0.9601\n",
            "Epoch 70/100\n",
            "983/983 [==============================] - 13s 13ms/step - loss: 0.1116 - accuracy: 0.9600\n",
            "Epoch 71/100\n",
            "983/983 [==============================] - 13s 14ms/step - loss: 0.1088 - accuracy: 0.9610\n",
            "Epoch 72/100\n",
            "983/983 [==============================] - 13s 13ms/step - loss: 0.1094 - accuracy: 0.9611\n",
            "Epoch 73/100\n",
            "983/983 [==============================] - 13s 13ms/step - loss: 0.1075 - accuracy: 0.9615\n",
            "Epoch 74/100\n",
            "983/983 [==============================] - 13s 14ms/step - loss: 0.1070 - accuracy: 0.9620\n",
            "Epoch 75/100\n",
            "983/983 [==============================] - 13s 14ms/step - loss: 0.1075 - accuracy: 0.9619\n",
            "Epoch 76/100\n",
            "983/983 [==============================] - 13s 13ms/step - loss: 0.1094 - accuracy: 0.9613\n",
            "Epoch 77/100\n",
            "983/983 [==============================] - 13s 13ms/step - loss: 0.1104 - accuracy: 0.9610\n",
            "Epoch 78/100\n",
            "983/983 [==============================] - 13s 13ms/step - loss: 0.1088 - accuracy: 0.9615\n",
            "Epoch 79/100\n",
            "983/983 [==============================] - 13s 14ms/step - loss: 0.1090 - accuracy: 0.9615\n",
            "Epoch 80/100\n",
            "983/983 [==============================] - 13s 14ms/step - loss: 0.1065 - accuracy: 0.9623\n",
            "Epoch 81/100\n",
            "983/983 [==============================] - 13s 14ms/step - loss: 0.1071 - accuracy: 0.9622\n",
            "Epoch 82/100\n",
            "983/983 [==============================] - 13s 13ms/step - loss: 0.1075 - accuracy: 0.9622\n",
            "Epoch 83/100\n",
            "983/983 [==============================] - 13s 14ms/step - loss: 0.1064 - accuracy: 0.9625\n",
            "Epoch 84/100\n",
            "983/983 [==============================] - 13s 13ms/step - loss: 0.1065 - accuracy: 0.9625\n",
            "Epoch 85/100\n",
            "983/983 [==============================] - 13s 14ms/step - loss: 0.1058 - accuracy: 0.9626\n",
            "Epoch 86/100\n",
            "983/983 [==============================] - 13s 14ms/step - loss: 0.1061 - accuracy: 0.9624\n",
            "Epoch 87/100\n",
            "983/983 [==============================] - 13s 14ms/step - loss: 0.1089 - accuracy: 0.9615\n",
            "Epoch 88/100\n",
            "983/983 [==============================] - 13s 14ms/step - loss: 0.1085 - accuracy: 0.9618\n",
            "Epoch 89/100\n",
            "983/983 [==============================] - 13s 13ms/step - loss: 0.1086 - accuracy: 0.9616\n",
            "Epoch 90/100\n",
            "983/983 [==============================] - 13s 14ms/step - loss: 0.1090 - accuracy: 0.9614\n",
            "Epoch 91/100\n",
            "983/983 [==============================] - 13s 13ms/step - loss: 0.1071 - accuracy: 0.9621\n",
            "Epoch 92/100\n",
            "983/983 [==============================] - 13s 14ms/step - loss: 0.1063 - accuracy: 0.9626\n",
            "Epoch 93/100\n",
            "983/983 [==============================] - 13s 14ms/step - loss: 0.1065 - accuracy: 0.9621\n",
            "Epoch 94/100\n",
            "983/983 [==============================] - 13s 13ms/step - loss: 0.1062 - accuracy: 0.9622\n",
            "Epoch 95/100\n",
            "983/983 [==============================] - 13s 13ms/step - loss: 0.1064 - accuracy: 0.9622\n",
            "Epoch 96/100\n",
            "983/983 [==============================] - 13s 13ms/step - loss: 0.1061 - accuracy: 0.9623\n",
            "Epoch 97/100\n",
            "983/983 [==============================] - 13s 13ms/step - loss: 0.1062 - accuracy: 0.9622\n",
            "Epoch 98/100\n",
            "983/983 [==============================] - 13s 14ms/step - loss: 0.1060 - accuracy: 0.9627\n",
            "Epoch 99/100\n",
            "983/983 [==============================] - 13s 14ms/step - loss: 0.1065 - accuracy: 0.9625\n",
            "Epoch 100/100\n",
            "983/983 [==============================] - 13s 13ms/step - loss: 0.1053 - accuracy: 0.9626\n"
          ]
        },
        {
          "output_type": "execute_result",
          "data": {
            "text/plain": [
              "<keras.callbacks.History at 0x7f50d3bca990>"
            ]
          },
          "metadata": {},
          "execution_count": 22
        }
      ]
    },
    {
      "cell_type": "code",
      "metadata": {
        "id": "xfRmnVr0KC5z",
        "colab": {
          "base_uri": "https://localhost:8080/",
          "height": 1000
        },
        "outputId": "601c429e-7359-4ef9-8f6f-72d8babb0a61"
      },
      "source": [
        "tf.keras.utils.plot_model(model, 'my_first_model.png', show_shapes=True)"
      ],
      "execution_count": 23,
      "outputs": [
        {
          "output_type": "execute_result",
          "data": {
            "image/png": "[encoded data removed]",
            "text/plain": [
              "<IPython.core.display.Image object>"
            ]
          },
          "metadata": {},
          "execution_count": 23
        }
      ]
    },
    {
      "cell_type": "code",
      "metadata": {
        "id": "DUIIh9uNkd26"
      },
      "source": [
        "pred = model.predict(x_test)\n",
        "y_pred= np.argmax(pred, axis = 1)"
      ],
      "execution_count": 37,
      "outputs": []
    },
    {
      "cell_type": "markdown",
      "metadata": {
        "id": "cYLdVuE8H2tZ"
      },
      "source": [
        "Evaluation of the model"
      ]
    },
    {
      "cell_type": "code",
      "metadata": {
        "id": "GH3llzXYke4V"
      },
      "source": [
        "from sklearn.metrics import confusion_matrix,accuracy_score\n",
        "from sklearn.metrics import (precision_score, recall_score,\n",
        "                             f1_score, accuracy_score,mean_squared_error,mean_absolute_error)"
      ],
      "execution_count": 25,
      "outputs": []
    },
    {
      "cell_type": "code",
      "metadata": {
        "id": "Vb63sVRLkq72",
        "colab": {
          "base_uri": "https://localhost:8080/"
        },
        "outputId": "f402bd0f-71bb-4304-a8c0-fed351dcce88"
      },
      "source": [
        "confusion_matrix(Y_test, y_pred)"
      ],
      "execution_count": 26,
      "outputs": [
        {
          "output_type": "execute_result",
          "data": {
            "text/plain": [
              "array([[8728,  983],\n",
              "       [3626, 9188]])"
            ]
          },
          "metadata": {},
          "execution_count": 26
        }
      ]
    },
    {
      "cell_type": "code",
      "metadata": {
        "id": "Y253QfwKkwFZ",
        "colab": {
          "base_uri": "https://localhost:8080/"
        },
        "outputId": "fef26c0e-7b0a-4793-94bb-b1da60a81db5"
      },
      "source": [
        "accuracy =accuracy_score(Y_test, y_pred)*100\n",
        "print(accuracy)"
      ],
      "execution_count": 27,
      "outputs": [
        {
          "output_type": "stream",
          "name": "stdout",
          "text": [
            "79.53829078801333\n"
          ]
        }
      ]
    },
    {
      "cell_type": "code",
      "metadata": {
        "id": "l51SftKmnpOF",
        "colab": {
          "base_uri": "https://localhost:8080/"
        },
        "outputId": "13a4633c-3a24-429e-c6fd-ec55de133927"
      },
      "source": [
        "print(y_pred)\n",
        "# print(len(y_pred))"
      ],
      "execution_count": 28,
      "outputs": [
        {
          "output_type": "stream",
          "name": "stdout",
          "text": [
            "[1 1 0 ... 1 0 1]\n"
          ]
        }
      ]
    },
    {
      "cell_type": "code",
      "metadata": {
        "id": "0Dnfh4W_n0F7",
        "colab": {
          "base_uri": "https://localhost:8080/"
        },
        "outputId": "26c90f20-cac4-4390-f815-19214c060452"
      },
      "source": [
        "print(y_21_test)"
      ],
      "execution_count": 29,
      "outputs": [
        {
          "output_type": "stream",
          "name": "stdout",
          "text": [
            "0        1\n",
            "1        1\n",
            "2        1\n",
            "3        0\n",
            "4        1\n",
            "        ..\n",
            "11845    0\n",
            "11846    0\n",
            "11847    1\n",
            "11848    1\n",
            "11849    1\n",
            "Name: label, Length: 11850, dtype: int64\n"
          ]
        }
      ]
    },
    {
      "cell_type": "code",
      "metadata": {
        "id": "TXQTWJSCsJDu"
      },
      "source": [
        "pred = model.predict(x_21_test)\n",
        "y_pred= np.argmax(pred, axis = 1)"
      ],
      "execution_count": 30,
      "outputs": []
    },
    {
      "cell_type": "code",
      "metadata": {
        "id": "HbP5vIUMef_u",
        "colab": {
          "base_uri": "https://localhost:8080/"
        },
        "outputId": "3d9a8c96-bc51-46eb-e1b1-d8695fdd7967"
      },
      "source": [
        "confusion_matrix(y_21_test, y_pred)"
      ],
      "execution_count": 31,
      "outputs": [
        {
          "output_type": "execute_result",
          "data": {
            "text/plain": [
              "array([[1209,  943],\n",
              "       [3626, 6072]])"
            ]
          },
          "metadata": {},
          "execution_count": 31
        }
      ]
    },
    {
      "cell_type": "code",
      "metadata": {
        "id": "YkU3VFBJsPYU",
        "colab": {
          "base_uri": "https://localhost:8080/"
        },
        "outputId": "21652c92-fbeb-4f15-904c-e8dd733650d8"
      },
      "source": [
        "print(y_pred)"
      ],
      "execution_count": 32,
      "outputs": [
        {
          "output_type": "stream",
          "name": "stdout",
          "text": [
            "[0 1 0 ... 1 1 1]\n"
          ]
        }
      ]
    },
    {
      "cell_type": "code",
      "metadata": {
        "id": "Uak9Tizyksxl",
        "colab": {
          "base_uri": "https://localhost:8080/"
        },
        "outputId": "c09c6667-6528-4fc6-cd10-e1d59b00d929"
      },
      "source": [
        "acc_21 = accuracy_score(y_21_test, y_pred)* 100\n",
        "print(acc_21)"
      ],
      "execution_count": 33,
      "outputs": [
        {
          "output_type": "stream",
          "name": "stdout",
          "text": [
            "61.44303797468355\n"
          ]
        }
      ]
    },
    {
      "cell_type": "code",
      "metadata": {
        "id": "RpYAdmDVHtUj"
      },
      "source": [
        "recall = recall_score(y_21_test, y_pred , average=\"binary\")\n",
        "precision = precision_score(y_21_test, y_pred , average=\"binary\")\n",
        "f1 = f1_score(y_21_test, y_pred, average=\"binary\")"
      ],
      "execution_count": 34,
      "outputs": []
    },
    {
      "cell_type": "code",
      "metadata": {
        "id": "68ee-uYVIQMo",
        "colab": {
          "base_uri": "https://localhost:8080/"
        },
        "outputId": "627cd2dd-d4d8-46d8-cd1f-44703b6569c1"
      },
      "source": [
        "  print(\"accuracy\")\n",
        "  print(\"%.3f\" %acc_21)\n",
        "  print(\"racall\")\n",
        "  print(\"%.3f\" %recall)\n",
        "  print(\"precision\")\n",
        "  print(\"%.3f\" %precision)\n",
        "  print(\"f1score\")\n",
        "  print(f1)"
      ],
      "execution_count": 35,
      "outputs": [
        {
          "output_type": "stream",
          "name": "stdout",
          "text": [
            "accuracy\n",
            "61.443\n",
            "racall\n",
            "0.626\n",
            "precision\n",
            "0.866\n",
            "f1score\n",
            "0.7266199964099803\n"
          ]
        }
      ]
    },
    {
      "cell_type": "code",
      "metadata": {
        "id": "jw1gQlSdcFUX",
        "colab": {
          "base_uri": "https://localhost:8080/"
        },
        "outputId": "bb444a29-4cc2-4970-dd5b-5cdc1253191c"
      },
      "source": [
        "print(\"F-Score : \", f1*100)\n",
        "print(\"Precision : \" , precision*100)\n",
        "print(\"Recall : \", recall*100)\n",
        "print(\"Accuracy : \",acc_21)"
      ],
      "execution_count": 36,
      "outputs": [
        {
          "output_type": "stream",
          "name": "stdout",
          "text": [
            "F-Score :  72.66199964099803\n",
            "Precision :  86.55737704918033\n",
            "Recall :  62.61084759744278\n",
            "Accuracy :  61.44303797468355\n"
          ]
        }
      ]
    }
  ]
}